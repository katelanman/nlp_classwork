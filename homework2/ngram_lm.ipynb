{
 "cells": [
  {
   "cell_type": "markdown",
   "metadata": {},
   "source": [
    "Homework 2: n-gram LM\n",
    "----\n",
    "\n",
    "Due date: January 30th, 2025\n",
    "\n",
    "Points: 100\n",
    "\n",
    "Goals:\n",
    "- think about the ethics of language models\n",
    "- understand the difficulties of counting and probablities in NLP applications\n",
    "- work with real world data to build a functioning language model\n",
    "- stress test your model (to some extent)\n",
    "\n",
    "Complete in groups of: __one (individually)__\n",
    "\n",
    "Files to submit (3):\n",
    "- `lm_model.py` (65 points)\n",
    "- `ngram_lm.ipynb` (30 points)\n",
    "    - the training file that you used for the last part of Task 3\n",
    "- note that the remaining 5 points are assigned to overall style and legibility (see note at end of notebook)\n",
    "\n",
    "Allowed python modules:\n",
    "- `numpy`, `matplotlib`, and all built-in python libraries (e.g. `math` and `string`)\n",
    "- do not use `nltk` or `pandas`\n",
    "\n",
    "\n",
    "**First get the language model(lm_starter.py) implemented and pass all the unit tests. Run the unit tests from the command line.**\n",
    "--\n",
    "Instructions:\n",
    "- Complete outlined problems in this notebook.\n",
    "- When you have finished, __clear the kernel__ and __run__ your notebook \"fresh\" from top to bottom. Ensure that there are __no errors__. \n",
    "    - If a problem asks for you to write code that does result in an error (as in, the answer to the problem is an error), leave the code in your notebook but commented out so that running from top to bottom does not result in any errors.\n",
    "- Double check that you have completed Task 0.\n",
    "- Submit your work on Gradescope.\n",
    "- Double check that your submission on Gradescope looks like you believe it should.\n",
    "\n",
    "**IMPORTANT: If you edit the lm_model.py file, restart the kernel after each edit. Otherwise you won't see the changes in the notebook.**\n"
   ]
  },
  {
   "cell_type": "markdown",
   "metadata": {},
   "source": [
    "Task 0: Name, References, Reflection (5 points)\n",
    "---\n",
    "\n",
    "Name: Kate Lanman\n",
    "\n",
    "References\n",
    "---\n",
    "List the resources you consulted to complete this homework here. Write one sentence per resource about what it provided to you. If you consulted no references to complete your assignment, write a brief sentence stating that this is the case and why it was the case for you.\n",
    "\n",
    "- https://web.stanford.edu/~jurafsky/icslp-red.pdf\n",
    "    - Read about the Berkeley Restaurant Project.\n",
    "- https://www.gutenberg.org/ebooks/11\n",
    "    - data for last task\n",
    "- https://stackoverflow.com/questions/39773377/python-multiprocessing-check-status-of-each-processes\n",
    "    - Timing out function after x seconds\n",
    "\n",
    "AI Collaboration\n",
    "---\n",
    "Following the *AI Collaboration Policy* in the syllabus, please cite any LLMs that you used here and briefly describe what you used them for. Additionally, provide comments in-line identifying the specific sections that you used LLMs on, if you used them towards the generation of any of your answers.\n",
    "\n",
    "Do not include nested list comprehensions supplied by AI collaborators — all nested list comprehensions __must__ be re-written.\n",
    "\n",
    "Reflection\n",
    "----\n",
    "Answer the following questions __after__ you complete this assignment (no more than 1 sentence per question required, this section is graded on completion):\n",
    "\n",
    "1. Does this work reflect your best effort?\n",
    "\n",
    "    Yes, I think this work reflects my best effort.\n",
    "2. What was/were the most challenging part(s) of the assignment?\n",
    "\n",
    "    The hardest part of the assignment was determining the best way to train the model and what attributes needed to be stored when training.\n",
    "3. If you want feedback, what function(s) or problem(s) would you like feedback on and why?\n",
    "\n",
    "    I don't need feedback."
   ]
  },
  {
   "cell_type": "markdown",
   "metadata": {},
   "source": [
    "Task 1: Language Model Ethics (10 points)\n",
    "---\n",
    "\n",
    "Read the abstract (first two pages) of <u>[Ethical and social risks of harm from\n",
    "Language Models](https://arxiv.org/pdf/2112.04359)</u>.  \n",
    "It's very long, but you are encouraged to look at the table of contents and skim through any sections that interest you. \n",
    "\n",
    "The authors list six categories of risks that could arise from language models.  \n",
    "Pick **one** of the six categories, and answer the following questions.\n",
    "Questions 2 - 5 should be answered in 2-3 sentences each.  \n",
    "None of these questions have a single correct answer."
   ]
  },
  {
   "cell_type": "markdown",
   "metadata": {},
   "source": [
    "1. Which category did you pick?\n",
    "\n",
    "   \"Discrimination, Exclusion, and Toxicity\"\n",
    "3. What does this category mean?\n",
    "\n",
    "   Systemic biases are baked into the data that we train our models on which can cause LM's to reinforce these biases and perpetuate discrimination. Language models can reproduce discrimination or toxicity that exists in the training data or poorly represent groups which are underrepresented in the training data (often marginalised, minority groups).\n",
    "5. Provide an example of how the behavior of a language model could cause this type of harm. You may use an example from the paper, from your own experiences, or elsewhere. If draw on any outside resources, please cite them.\n",
    "\n",
    "   From the paper: One study found GPT-3 predictions exhibited Islamophic rhetoric, mapping \"Muslim\" to \"terrorist\" in nearly a quarter of test cases. Such sentiment only serves to perpetuate false negative stereotypes.\n",
    "7. Imagine that we have created a cutting-edge language model. How might we test it for risky behavior?\n",
    "\n",
    "   Since this issue is so broad and can appear in so many different forms, the context of the model and its uses are important in informing how it might be tested. Generally, I would determine what harms are most likely given the use of the model as well as the data it was trained on and run repeated analyses under different conditions to determine if/when harmful behaviors are produced. \n",
    "9. Can you think of a potential solution to the issue you highlighted in #3? What kinds of compromises would you need to make?\n",
    "\n",
    "   Unfortunately, I'm unsure if it's possible to completely eradicate the possibility that toxic, discriminatory, or bias sentiments are generated by LM's since these issues are so deeply engrained in our social systems. The best solution would be to thoroughly vet all training documents to ensure the training data is not overtly harmful and that these harms won't be replicated by the model (important to consider this in the context of the use of the model, too). This would require compromising the amount of data available to train on and would draw out the process of selecting training data."
   ]
  },
  {
   "cell_type": "markdown",
   "metadata": {},
   "source": [
    "Task 2: Berp Data Write-Up (5 points)\n",
    "---\n",
    "\n",
    "Every time you use a data set in an NLP application (or in any software application), you should be able to answer a set of questions about that data. Answer these now. Default to no more than 1 sentence per question needed. If more explanation is necessary, do give it."
   ]
  },
  {
   "cell_type": "markdown",
   "metadata": {},
   "source": [
    "This is about the __berp__ data set. Feel free to write code/add cells to help answer these questions.\n",
    "\n",
    "1. (Answer provided for you) Where did you get the data from? https://www1.icsi.berkeley.edu/Speech/berp.html or https://github.com/wooters/berp-trans \n",
    "2. How was the data collected (where did the people acquiring the data get it from and how)? \n",
    "\n",
    "    The data was collected in an office environment using a \"Wizard of Oz system\" where participants interacted with a display that was controlled and monitored by researchers in a separate room. \n",
    "3. How large is the dataset? (# lines, # tokens) \n",
    "\n",
    "    6756 lines, 243467 tokens\n"
   ]
  },
  {
   "cell_type": "code",
   "execution_count": 1,
   "metadata": {},
   "outputs": [
    {
     "name": "stdout",
     "output_type": "stream",
     "text": [
      "number of lines: 6756\n",
      "number of tokens: 243467\n"
     ]
    }
   ],
   "source": [
    "from lm_model import read_file, tokenize_line\n",
    "\n",
    "data = read_file('training_files/berp-training.txt')\n",
    "print(f'number of lines: {len(data)}')\n",
    "\n",
    "# tokenize\n",
    "tokens = []\n",
    "for line in data:\n",
    "    tokens += tokenize_line(line, 1)\n",
    "\n",
    "print(f'number of tokens: {len(tokens)}')"
   ]
  },
  {
   "cell_type": "markdown",
   "metadata": {},
   "source": [
    "4. What is your data? (i.e. newswire, tweets, books, blogs, etc) \n",
    "    \n",
    "    Transcripts of audio files related to restaurants in the Berkeley area.\n",
    "5. Who produced the data? (who were the authors of the text? Your answer might be a specific person or a particular group of people) \n",
    "\n",
    "    The International Computer Science Institute at the University of California at Berkeley"
   ]
  },
  {
   "cell_type": "markdown",
   "metadata": {},
   "source": [
    "Task 3: Implement an n-gram Language Model (65 points)\n",
    "----\n",
    "\n",
    "Implement the `LanguageModel` class as outlined in the provided `lm_starter.py` file. Do not change function signatures (the unit tests that we provide and the unit tests in the autograder will break if you do).\n",
    "\n",
    "Your language model:\n",
    "- *must* work for both the unigram and bigram cases (5 points are allocated to an experiment involving larger values of `n`, so if your model does not work for larger values of `n`, you won't receive these points, but you will receive a majority of the assignment points.)\n",
    "    - hint: try to implement the bigram case as a generalized \"`n` is greater than 1\" case\n",
    "- should be *token agnostic* (this means that if we give the model text tokenized as single characters, it will function as a character language model and if we give the model text tokenized as \"words\" (or \"traditionally\"), then it will function as a language model with those tokens)\n",
    "- uses Laplace smoothing\n",
    "- replaces all tokens that occur only once with `<UNK>` at train time\n",
    "    - note: do not add `<UNK>` to your vocabulary if no tokens in the training data occur only once!\n",
    "\n",
    "We have provided:\n",
    "- a function to read in files\n",
    "- some functions to change a list of strings into tokens (that you can run to tokenize by \"word\" or by character)\n",
    "- the skeleton of the `LanguageModel` class\n",
    "\n",
    "You need to implement:\n",
    "- all functions marked in `lm_starter.py`\n",
    "\n",
    "You may implement:\n",
    "- additional functions/methods as helpful to you\n",
    "\n",
    "As a guideline, including comments, all code required and some debugging code that can be run with `verbose` parameters, our solution is ~285 lines. (~+105 lines versus the starter code).\n",
    "\n",
    "Points breakdown marked in code below."
   ]
  },
  {
   "cell_type": "code",
   "execution_count": 2,
   "metadata": {},
   "outputs": [],
   "source": [
    "import lm_model as lm\n",
    "import numpy as np\n",
    "import matplotlib.pyplot as plt"
   ]
  },
  {
   "cell_type": "markdown",
   "metadata": {},
   "source": [
    "test the language model (unit tests)\n",
    "-----\n",
    "\n",
    "Do this __*from the command line*__\n",
    "\n",
    "Passing all provided unit tests is a good indication that your model is correct. They are *not a guarantee*, so make sure to look at the tests and the cases that they cover. (we'll be testing your model against all of the testing data in addition).\n",
    "\n",
    "The autograder points in gradescope are assigned __60 points__ there are __an additional 10 points__ manually graded for the correctness of your sentence generation.\n",
    "\n",
    "To run tests: make sure all training files are in a `training_files` directory that is in the same directory as this notebook.\n",
    "\n",
    "Instructions for Running Unit Tests from the command line:\n",
    "- To run the unit tests, navigate to the directory where your code files are located and execute the following command:\n",
    "`python -m unittest test_file_name`\n",
    "    - Ensure that your Python environment has access to the necessary dependencies and that all modules are properly imported.\n",
    "    - come to office hours/post on the course discussion board with any installation issues"
   ]
  },
  {
   "cell_type": "code",
   "execution_count": 3,
   "metadata": {},
   "outputs": [
    {
     "name": "stdout",
     "output_type": "stream",
     "text": [
      "<s> </s>\n",
      "<s> so to me like i a miles be know i'd five </s>\n",
      "<s> don't </s>\n",
      "<s> information </s>\n",
      "<s> five i only the stop about of tour tell list i dollars </s>\n",
      "<s> i </s>\n",
      "<s> telegraph list <UNK> like breakfast any restaurants me let's i'd place thai all </s>\n",
      "<s> </s>\n",
      "<s> any with go vin i an thai to away about <UNK> dinner with far i twenty today very some list this i </s>\n",
      "<s> okay and </s>\n"
     ]
    }
   ],
   "source": [
    "# 5 points\n",
    "\n",
    "# instantiate a unigram language model, train it, and generate ten sentences\n",
    "# make sure your output is nicely formatted!\n",
    "ngram = 1\n",
    "training_file_path = \"training_files/berp-training.txt\"\n",
    "\n",
    "# optional parameter tells the tokenize function how to tokenize\n",
    "by_char = False\n",
    "data = lm.read_file(training_file_path)\n",
    "tokens = lm.tokenize(data, ngram, by_char=by_char)\n",
    "\n",
    "# initialize model and train\n",
    "berp_unigram = lm.LanguageModel(ngram)\n",
    "berp_unigram.train(tokens, verbose=False) \n",
    "\n",
    "# generate 10 sentences\n",
    "sentences = berp_unigram.generate(10)\n",
    "for sentence in sentences:\n",
    "    print(' '.join(sentence))"
   ]
  },
  {
   "cell_type": "code",
   "execution_count": 4,
   "metadata": {},
   "outputs": [
    {
     "name": "stdout",
     "output_type": "stream",
     "text": [
      "<s> i don't mind about nakapan </s>\n",
      "<s> let's start again international house cafe </s>\n",
      "<s> would like to dinner tomorrow for the distance of food </s>\n",
      "<s> um </s>\n",
      "<s> i want cheap japanese lunch time does not very expensive restaurant </s>\n",
      "<s> why not too far </s>\n",
      "<s> what do you show me more information for dinner </s>\n",
      "<s> i'd like to a cost under thirty dollars </s>\n",
      "<s> i would like to eat indian food </s>\n",
      "<s> where i would like additional information about uh i want to eat american food </s>\n"
     ]
    }
   ],
   "source": [
    "# instantiate a bigram language model, train it, and generate ten sentences\n",
    "# make sure your output is nicely formatted!\n",
    "ngram = 2\n",
    "training_file_path = \"training_files/berp-training.txt\"\n",
    "# optional parameter tells the tokenize function how to tokenize\n",
    "by_char = False\n",
    "data = lm.read_file(training_file_path)\n",
    "tokens = lm.tokenize(data, ngram, by_char=by_char)\n",
    "\n",
    "# initialize model and train\n",
    "berp_bigram = lm.LanguageModel(ngram)\n",
    "berp_bigram.train(tokens, verbose=False) \n",
    "\n",
    "# generate 10 sentences\n",
    "sentences = berp_bigram.generate(10)\n",
    "for sentence in sentences:\n",
    "    print(' '.join(sentence))\n",
    "\n",
    "# Expected runtime close to 0.1 sec"
   ]
  },
  {
   "cell_type": "code",
   "execution_count": 5,
   "metadata": {},
   "outputs": [
    {
     "name": "stdout",
     "output_type": "stream",
     "text": [
      "<s>uth to s</s>\n",
      "<s>thee than ham meanorounet le are tse hert i't f t</s>\n",
      "<s>o t w gr mo malifrereave utowhelesi whacese athee t four ret te intrtative keeg t t m we do fount d g are centodo d me alit go ularese fifesteleavenoostaurlidr twandanest'sian me ld wace</s>\n",
      "<s>ilir</s>\n",
      "<s>d tenessheke fooreseats</s>\n",
      "<s>i-rst sy me coli't dooreno anchewalancomikft'r fo spe tantome mont ssil cheando boulan fi r me moqute din ler</s>\n",
      "<s>d t t h maran avea</s>\n",
      "<s>ia dintny li's</s>\n",
      "<s>iand i pere lan fte te ucourancradapen toofo w foo</s>\n",
      "<s>whindu l ferive wi to pe</s>\n"
     ]
    }
   ],
   "source": [
    "# instantiate a bigram language model, train it *on tokens that are *tokenized by character*, and generate ten sentences\n",
    "# make sure your output is nicely formatted!\n",
    "ngram = 2\n",
    "training_file_path = \"training_files/berp-training.txt\"\n",
    "# optional parameter tells the tokenize function how to tokenize\n",
    "by_char = True\n",
    "data = lm.read_file(training_file_path)\n",
    "tokens = lm.tokenize(data, ngram, by_char=by_char)\n",
    "\n",
    "# initialize model and train\n",
    "char_bigram = lm.LanguageModel(ngram)\n",
    "char_bigram.train(tokens, verbose=False) \n",
    "\n",
    "# generate 10 sentences\n",
    "sentences = char_bigram.generate(10)\n",
    "for sentence in sentences:\n",
    "    print(''.join(sentence))\n",
    "\n",
    "# Expected runtime close to 0.1 sec"
   ]
  },
  {
   "cell_type": "code",
   "execution_count": 6,
   "metadata": {},
   "outputs": [
    {
     "name": "stdout",
     "output_type": "stream",
     "text": [
      "Mean score: 4.9620823627262653e-05\n",
      "Score standard deviation: 0.000285298086084196\n"
     ]
    }
   ],
   "source": [
    "# evaluate a word-based bigram model on the test data\n",
    "\n",
    "# score each line in the test data individually, then calculate the average score\n",
    "# you need not re-train your model, just be sure to use the correct model!\n",
    "test_path = \"testing_files/berp-test.txt\"\n",
    "test_data = lm.read_file(test_path)\n",
    "\n",
    "scores = []\n",
    "for line in test_data:\n",
    "    tokens = lm.tokenize_line(line, 2, by_char=False)\n",
    "    scores.append(berp_bigram.score(tokens))\n",
    "\n",
    "# Print out the mean score and standard deviation\n",
    "# for words-as-tokens, these values should be\n",
    "# ~4.9 * 10^-5 and 0.000285\n",
    "print(f'Mean score: {np.mean(scores)}')\n",
    "print(f'Score standard deviation: {np.std(scores)}')\n",
    "\n",
    "# Expected runtime close to 0.1 sec"
   ]
  },
  {
   "cell_type": "code",
   "execution_count": 7,
   "metadata": {},
   "outputs": [
    {
     "name": "stdout",
     "output_type": "stream",
     "text": [
      "Number of tokens: 31535\n",
      "Vocabulary size: 5275\n",
      "Most common tokens: \n",
      "\t[('<s>', 2496), ('</s>', 2496), ('the', 1515), ('and', 717), ('to', 706), ('a', 611), ('of', 493), ('she', 485), ('said', 416), ('it', 347)]\n",
      "Sample text:\n",
      "\tno mice in the air, I’m afraid, but you might catch a bat, and that’s\n",
      "\tvery like a mouse, you know. But do cats eat bats, I wonder?” And here\n",
      "\tAlice began to get rather sleepy, and went on saying to herself, in a\n",
      "\tdreamy sort of way, “Do cats eat bats? Do cats eat bats?” and\n",
      "\tsometimes, “Do bats eat cats?” for, you see, as she couldn’t answer\n"
     ]
    }
   ],
   "source": [
    "# 5 points\n",
    "\n",
    "# Find a new data set and run some training experiments\n",
    "# see if you can train your model on a data other than the provided data sets\n",
    "\n",
    "# Find another dataset on your own that fits following parameters and verify that you can run the language model on it for different values of n. \n",
    "# your file must:\n",
    "# - contain a minimum of 10,000 tokens (tokenized by \"words\") or 100,000 tokens (tokenized by characters)\n",
    "# - be in a text format\n",
    "# - not be restaurant reviews\n",
    "\n",
    "# your file need not (we encourage you to explore here):\n",
    "# - be in English\n",
    "\n",
    "# You must submit your data file to Gradescope along with `lm_model.py` and `ngram_lm.ipynb`.\n",
    "\n",
    "# Here are some resources for finding datasets:\n",
    "# - https://www.gutenberg.org (public domain books)\n",
    "# - https://www.kaggle.com/datasets (you may have to manually convert your dataset into text.)\n",
    "\n",
    "\n",
    "import time\n",
    "from collections import Counter\n",
    "\n",
    "file = \"training_files/alice_in_wonderland.txt\"\n",
    "data = lm.read_file(file)\n",
    "tokens = lm.tokenize(data, 1, by_char=False)\n",
    "\n",
    "# First, print some attributes of your data set.\n",
    "# How big is it, how many unique tokens, etc.\n",
    "# Print an example text snippet from your data set.\n",
    "\n",
    "print(f'Number of tokens: {len(tokens)}')\n",
    "print(f'Vocabulary size: {len(set(tokens))}')\n",
    "print(f'Most common tokens: \\n\\t{Counter(tokens).most_common(10)}')\n",
    "print(f'Sample text:')\n",
    "for l in data[110:115]:\n",
    "    print(f'\\t{l.strip()}')"
   ]
  },
  {
   "cell_type": "code",
   "execution_count": 8,
   "metadata": {},
   "outputs": [
    {
     "name": "stdout",
     "output_type": "stream",
     "text": [
      "Training model with n = 1...\n"
     ]
    },
    {
     "name": "stdout",
     "output_type": "stream",
     "text": [
      "Training time: 0.20638322830200195\n",
      "generated sentences:\n",
      "\t never a she but do!” large while who down she to won’t\n",
      "\t with very when ever great the gone salt was <UNK> them tea,” begun else then <UNK> to Mock I on before the of\n",
      "\t \n",
      "\n",
      "Training model with n = 2...\n",
      "Training time: 0.20427179336547852\n",
      "generated sentences:\n",
      "\t Alice’s <UNK> <UNK> be two or your eye fell <UNK> were <UNK> said Alice.\n",
      "\t <UNK> now?” said the Mouse heard of great curiosity.\n",
      "\t The jury wrote it to herself, “because of <UNK> Alice did not much pleased tone.\n",
      "\n",
      "Training model with n = 3...\n",
      "Training time: 0.2120227813720703\n",
      "generated sentences:\n",
      "\t So Alice began to repeat it, but her voice close to her feet, for it was all dark <UNK> before her was another\n",
      "\t know.” He was looking down with her face in her lessons in here? Why, there’s hardly enough of it in\n",
      "\t day about it!” and he says it’s so useful, it’s worth a <UNK> would take the\n",
      "\n",
      "Training model with n = 4...\n",
      "Training time: 0.2211160659790039\n",
      "generated sentences:\n",
      "\t three blasts on the trumpet, and then\n",
      "\t drunk half the bottle, she found her head <UNK> and, turning to\n",
      "\t “are done with a <UNK> into the <UNK> garden you ever <UNK> How she longed to get\n",
      "\n",
      "Training model with n = 5...\n",
      "Training time: 0.2533602714538574\n",
      "generated sentences:\n",
      "\t <UNK> how eagerly the lobsters and the <UNK> all <UNK>\n",
      "\t <UNK> better not <UNK> said <UNK> “I heard the Queen say only\n",
      "\t By the time she had caught the flamingo and brought it back, the fight\n",
      "\n",
      "Training model with n = 6...\n",
      "Training time: 0.2610287666320801\n",
      "generated sentences:\n",
      "\t “But then,” thought Alice, <UNK> I _never_ get any older than I am\n",
      "\t “It wasn’t very civil of you to sit down without being <UNK> said\n",
      "\t my fur and <UNK> <UNK> get me executed, as sure as <UNK> are\n",
      "\n",
      "Training model with n = 7...\n",
      "Training time: 0.38776302337646484\n",
      "generated sentences:\n",
      "\t Will you, won’t you, will you, won’t you, won’t you join the dance?\n",
      "\t on, as she heard the Queen’s voice in the distance, <UNK> with\n",
      "\t that all the jurors were writing down <UNK> things!” on their slates,\n",
      "\n",
      "Training model with n = 8...\n",
      "Training time: 0.3360469341278076\n",
      "generated sentences:\n",
      "\t for the next moment a shower of little pebbles came rattling in at the\n",
      "\t The first thing she heard was a general chorus of “There goes <UNK>\n",
      "\t through the little door into that lovely garden. First, however, she\n",
      "\n",
      "Training model with n = 9...\n",
      "Training time: 0.40665197372436523\n",
      "generated sentences:\n",
      "\t could get away without being <UNK> when she noticed a curious\n",
      "\t “Well, I shan’t go, at any <UNK> said Alice: <UNK> that’s not a\n",
      "\t “Sure, it <UNK> yer <UNK> but it’s an arm for all that.”\n",
      "\n",
      "Training model with n = 10...\n",
      "Training time: 0.47612977027893066\n",
      "generated sentences:\n",
      "\t saying to herself “This is Bill,” she gave one sharp <UNK> and waited\n",
      "\t words have got <UNK>\n",
      "\t First came ten soldiers carrying <UNK> these were all shaped like the\n",
      "\n"
     ]
    }
   ],
   "source": [
    "# Next, train your model on your data set for n = 1, 2, 3, 4, 5, ... 10\n",
    "# For each value of n, print the training time and generate three example sentences\n",
    "# stop if the training time exceeds 3 minutes\n",
    "\n",
    "from multiprocessing import Process\n",
    "\n",
    "times = []\n",
    "for n in range(1, 11):\n",
    "    print(f\"Training model with n = {n}...\")\n",
    "    tokens = lm.tokenize(data, n, by_char=False)\n",
    "        \n",
    "    # instantiate model\n",
    "    ngram_model = lm.LanguageModel(n)\n",
    "\n",
    "    # start training\n",
    "    start = time.time()\n",
    "    p = Process(ngram_model.train(tokens))\n",
    "    p.start()\n",
    "\n",
    "    # terminate training after 180s\n",
    "    ngram_model.train(tokens)\n",
    "\n",
    "    p.join(timeout=180)\n",
    "    if p.is_alive():\n",
    "        print( \"Training time exceeded 3 minutes. Terminating training...\")\n",
    "\n",
    "    p.terminate()\n",
    "\n",
    "    end = time.time()\n",
    "    times.append(end - start)\n",
    "    print(f\"Training time: {end - start}\")\n",
    "\n",
    "    # generate 3 sentences\n",
    "    sentences = ngram_model.generate(3)\n",
    "    \n",
    "    print('generated sentences:')\n",
    "    for sentence in sentences:\n",
    "        print('\\t', ' '.join([w for w in sentence if w not in ['<s>', '</s>']]))\n",
    "\n",
    "    print()"
   ]
  },
  {
   "cell_type": "code",
   "execution_count": 9,
   "metadata": {},
   "outputs": [
    {
     "data": {
      "image/png": "[encoded data removed]",
      "text/plain": [
       "<Figure size 640x480 with 1 Axes>"
      ]
     },
     "metadata": {},
     "output_type": "display_data"
    }
   ],
   "source": [
    "plt.plot(range(1, 11), times)\n",
    "plt.title('ngram size vs. time to train')\n",
    "plt.xlabel('n')\n",
    "plt.ylabel('time (s)')\n",
    "plt.show()"
   ]
  },
  {
   "cell_type": "markdown",
   "metadata": {},
   "source": [
    "Overall (5 points)\n",
    "---\n",
    "\n",
    "5 points in this assignment are reserved for overall style (both for writing and for code submitted). \n",
    "\n",
    "All work submitted should be clear, easily interpretable, and checked for spelling, etc. (Re-read what you write and make sure it makes sense). Course staff are always happy to give grammatical help (but we won't pre-grade the content of your answers).\n",
    "\n",
    "All code should use variables with sensible names, have comments as appropriate, be well-structured, and should not contain large blocks of uncommented code that you would not be able to easily explain one month from today."
   ]
  }
 ],
 "metadata": {
  "kernelspec": {
   "display_name": "Python 3 (ipykernel)",
   "language": "python",
   "name": "python3"
  },
  "language_info": {
   "codemirror_mode": {
    "name": "ipython",
    "version": 3
   },
   "file_extension": ".py",
   "mimetype": "text/x-python",
   "name": "python",
   "nbconvert_exporter": "python",
   "pygments_lexer": "ipython3",
   "version": "3.12.7"
  }
 },
 "nbformat": 4,
 "nbformat_minor": 4
}
